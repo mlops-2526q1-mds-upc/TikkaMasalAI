{
 "cells": [
  {
   "cell_type": "markdown",
   "id": "d017b7b5",
   "metadata": {},
   "source": [
    "# Deepchecks\n",
    "This notebook explores deepchecks capabilities to test our dataset."
   ]
  },
  {
   "cell_type": "code",
   "execution_count": 1,
   "id": "4a6d1d15",
   "metadata": {},
   "outputs": [
    {
     "data": {
      "text/html": [
       "<div><style>\n",
       ".dataframe > thead > tr,\n",
       ".dataframe > tbody > tr {\n",
       "  text-align: right;\n",
       "  white-space: pre-wrap;\n",
       "}\n",
       "</style>\n",
       "<small>shape: (3, 2)</small><table border=\"1\" class=\"dataframe\"><thead><tr><th>image</th><th>label</th></tr><tr><td>struct[2]</td><td>i64</td></tr></thead><tbody><tr><td>{b&quot;\\xff\\xd8\\xff\\xe0\\x00\\x10JFIF\\x00\\x01\\x01\\x01\\x00H\\x00H\\x00\\x00\\xff\\xe1\\x03\\x12Exif\\x00\\x00MM\\x00*\\x00\\x00\\x00\\x08\\x00\\x0a\\x01\\x0f\\x00\\x02\\x00\\x00\\x00\\x06\\x00\\x00\\x00\\x86\\x01\\x10\\x00\\x02\\x00\\x00\\x00\\x09&quot;…,&quot;2632284.jpg&quot;}</td><td>44</td></tr><tr><td>{b&quot;\\xff\\xd8\\xff\\xe0\\x00\\x10JFIF\\x00\\x01\\x01\\x01\\x00\\x90\\x00\\x90\\x00\\x00\\xff\\xe1\\x02\\xc2Exif\\x00\\x00MM\\x00*\\x00\\x00\\x00\\x08\\x00\\x06\\x01\\x12\\x00\\x03\\x00\\x00\\x00\\x01\\x00\\x01\\x00\\x00\\x01\\x1a\\x00\\x05\\x00\\x00\\x00\\x01&quot;…,&quot;3560567.jpg&quot;}</td><td>48</td></tr><tr><td>{b&quot;\\xff\\xd8\\xff\\xe0\\x00\\x10JFIF\\x00\\x01\\x01\\x01\\x00\\xb4\\x00\\xb4\\x00\\x00\\xff\\xed\\x1f\\xaaPhotoshop\\x203.0\\x008BIM\\x04\\x04\\x00\\x00\\x00\\x00\\x00\\x11\\x1c\\x02\\x00\\x00\\x02\\x00\\x02\\x1c\\x02P&quot;…,&quot;1702116.jpg&quot;}</td><td>30</td></tr></tbody></table></div>"
      ],
      "text/plain": [
       "shape: (3, 2)\n",
       "┌─────────────────────────────────┬───────┐\n",
       "│ image                           ┆ label │\n",
       "│ ---                             ┆ ---   │\n",
       "│ struct[2]                       ┆ i64   │\n",
       "╞═════════════════════════════════╪═══════╡\n",
       "│ {b\"\\xff\\xd8\\xff\\xe0\\x00\\x10JFI… ┆ 44    │\n",
       "│ {b\"\\xff\\xd8\\xff\\xe0\\x00\\x10JFI… ┆ 48    │\n",
       "│ {b\"\\xff\\xd8\\xff\\xe0\\x00\\x10JFI… ┆ 30    │\n",
       "└─────────────────────────────────┴───────┘"
      ]
     },
     "metadata": {},
     "output_type": "display_data"
    }
   ],
   "source": [
    "import os\n",
    "import polars as pl\n",
    "\n",
    "train_dfs = []\n",
    "test_dfs = []\n",
    "\n",
    "for base_dir, sub_dirs, files in os.walk(\"../data/raw/food101/data\"):\n",
    "    for filename in files:\n",
    "        if \"train\" in filename and filename.endswith(\".parquet\"):\n",
    "            # print(f\"Reading: {os.path.join(base_dir, filename)}\")\n",
    "            train_dfs.append(pl.read_parquet(os.path.join(base_dir, filename)))\n",
    "        elif \"validation\" in filename and filename.endswith(\".parquet\"):\n",
    "            # print(f\"Reading: {os.path.join(base_dir, filename)}\")\n",
    "            test_dfs.append(pl.read_parquet(os.path.join(base_dir, filename)))\n",
    "\n",
    "train_data = pl.concat(train_dfs)\n",
    "train_data = train_data.sample(fraction=1.0, shuffle=True, seed=42) # Shuffle the dataset\n",
    "\n",
    "test_data = pl.concat(test_dfs)\n",
    "test_data = test_data.sample(fraction=1.0, shuffle=True, seed=42) # Shuffle the dataset\n",
    "\n",
    "display(train_data.head(3))"
   ]
  },
  {
   "cell_type": "code",
   "execution_count": 2,
   "id": "ccc45de7",
   "metadata": {},
   "outputs": [
    {
     "name": "stdout",
     "output_type": "stream",
     "text": [
      "Num classes: 101\n"
     ]
    }
   ],
   "source": [
    "from deepchecks.vision.vision_data import VisionData\n",
    "from src.labels import LABELS\n",
    "from src.data.food_dataset import FoodDataset, dc_collate\n",
    "from torch.utils.data import DataLoader\n",
    "\n",
    "# Build label map once (Deepchecks expects idx->class_name)\n",
    "label_map = {i: label for i, label in enumerate(LABELS)}\n",
    "print(\"Num classes:\", len(LABELS))\n",
    "\n",
    "# Instantiate datasets from polars DataFrames\n",
    "train_dataset = FoodDataset(train_data, class_names=LABELS, image_col=\"image\", label_col=\"label\")\n",
    "test_dataset  = FoodDataset(test_data,  class_names=LABELS, image_col=\"image\", label_col=\"label\")\n",
    "\n",
    "# DataLoaders that yield Deepchecks-compatible dicts\n",
    "train_loader = DataLoader(train_dataset, batch_size=32, shuffle=True,  num_workers=0, collate_fn=dc_collate)\n",
    "test_loader  = DataLoader(test_dataset,  batch_size=32, shuffle=False, num_workers=0, collate_fn=dc_collate)\n",
    "\n",
    "# Wrap for Deepchecks\n",
    "train_ds = VisionData(batch_loader=train_loader, task_type=\"classification\", label_map=label_map)\n",
    "test_ds  = VisionData(batch_loader=test_loader,  task_type=\"classification\", label_map=label_map)"
   ]
  },
  {
   "cell_type": "code",
   "execution_count": 3,
   "id": "de9549e1",
   "metadata": {},
   "outputs": [
    {
     "data": {
      "text/html": [
       "\n",
       "    <style>\n",
       "        progress {\n",
       "            -webkit-appearance: none;\n",
       "            border: none;\n",
       "            border-radius: 3px;\n",
       "            width: 300px;\n",
       "            height: 20px;\n",
       "            vertical-align: middle;\n",
       "            margin-right: 10px;\n",
       "            background-color: aliceblue;\n",
       "        }\n",
       "        progress::-webkit-progress-bar {\n",
       "            border-radius: 3px;\n",
       "            background-color: aliceblue;\n",
       "        }\n",
       "        progress::-webkit-progress-value {\n",
       "            background-color: #9d60fb;\n",
       "        }\n",
       "        progress::-moz-progress-bar {\n",
       "            background-color: #9d60fb;\n",
       "        }\n",
       "    </style>\n",
       "    "
      ]
     },
     "metadata": {},
     "output_type": "display_data"
    },
    {
     "data": {
      "text/html": []
     },
     "metadata": {},
     "output_type": "display_data"
    },
    {
     "data": {
      "text/html": [
       "\n",
       "    <style>\n",
       "        progress {\n",
       "            -webkit-appearance: none;\n",
       "            border: none;\n",
       "            border-radius: 3px;\n",
       "            width: 300px;\n",
       "            height: 20px;\n",
       "            vertical-align: middle;\n",
       "            margin-right: 10px;\n",
       "            background-color: aliceblue;\n",
       "        }\n",
       "        progress::-webkit-progress-bar {\n",
       "            border-radius: 3px;\n",
       "            background-color: aliceblue;\n",
       "        }\n",
       "        progress::-webkit-progress-value {\n",
       "            background-color: #9d60fb;\n",
       "        }\n",
       "        progress::-moz-progress-bar {\n",
       "            background-color: #9d60fb;\n",
       "        }\n",
       "    </style>\n",
       "    "
      ]
     },
     "metadata": {},
     "output_type": "display_data"
    },
    {
     "data": {
      "text/html": []
     },
     "metadata": {},
     "output_type": "display_data"
    },
    {
     "data": {
      "text/html": [
       "\n",
       "    <style>\n",
       "        progress {\n",
       "            -webkit-appearance: none;\n",
       "            border: none;\n",
       "            border-radius: 3px;\n",
       "            width: 300px;\n",
       "            height: 20px;\n",
       "            vertical-align: middle;\n",
       "            margin-right: 10px;\n",
       "            background-color: aliceblue;\n",
       "        }\n",
       "        progress::-webkit-progress-bar {\n",
       "            border-radius: 3px;\n",
       "            background-color: aliceblue;\n",
       "        }\n",
       "        progress::-webkit-progress-value {\n",
       "            background-color: #9d60fb;\n",
       "        }\n",
       "        progress::-moz-progress-bar {\n",
       "            background-color: #9d60fb;\n",
       "        }\n",
       "    </style>\n",
       "    "
      ]
     },
     "metadata": {},
     "output_type": "display_data"
    },
    {
     "data": {
      "text/html": []
     },
     "metadata": {},
     "output_type": "display_data"
    },
    {
     "data": {
      "text/html": [
       "\n",
       "    <style>\n",
       "        progress {\n",
       "            -webkit-appearance: none;\n",
       "            border: none;\n",
       "            border-radius: 3px;\n",
       "            width: 300px;\n",
       "            height: 20px;\n",
       "            vertical-align: middle;\n",
       "            margin-right: 10px;\n",
       "            background-color: aliceblue;\n",
       "        }\n",
       "        progress::-webkit-progress-bar {\n",
       "            border-radius: 3px;\n",
       "            background-color: aliceblue;\n",
       "        }\n",
       "        progress::-webkit-progress-value {\n",
       "            background-color: #9d60fb;\n",
       "        }\n",
       "        progress::-moz-progress-bar {\n",
       "            background-color: #9d60fb;\n",
       "        }\n",
       "    </style>\n",
       "    "
      ]
     },
     "metadata": {},
     "output_type": "display_data"
    },
    {
     "data": {
      "text/html": []
     },
     "metadata": {},
     "output_type": "display_data"
    },
    {
     "data": {
      "text/html": [
       "\n",
       "    <style>\n",
       "        progress {\n",
       "            -webkit-appearance: none;\n",
       "            border: none;\n",
       "            border-radius: 3px;\n",
       "            width: 300px;\n",
       "            height: 20px;\n",
       "            vertical-align: middle;\n",
       "            margin-right: 10px;\n",
       "            background-color: aliceblue;\n",
       "        }\n",
       "        progress::-webkit-progress-bar {\n",
       "            border-radius: 3px;\n",
       "            background-color: aliceblue;\n",
       "        }\n",
       "        progress::-webkit-progress-value {\n",
       "            background-color: #9d60fb;\n",
       "        }\n",
       "        progress::-moz-progress-bar {\n",
       "            background-color: #9d60fb;\n",
       "        }\n",
       "    </style>\n",
       "    "
      ]
     },
     "metadata": {},
     "output_type": "display_data"
    },
    {
     "data": {
      "text/html": []
     },
     "metadata": {},
     "output_type": "display_data"
    },
    {
     "name": "stderr",
     "output_type": "stream",
     "text": [
      "/Users/i551965/Documents/dev/Uni/TikkaMasalAI/.venv/lib/python3.10/site-packages/deepchecks/core/check_utils/feature_label_correlation_utils.py:221: PerformanceWarning:\n",
      "\n",
      "DataFrame is highly fragmented.  This is usually the result of calling `frame.insert` many times, which has poor performance.  Consider joining all columns at once using pd.concat(axis=1) instead. To get a de-fragmented frame, use `newframe = frame.copy()`\n",
      "\n",
      "/Users/i551965/Documents/dev/Uni/TikkaMasalAI/.venv/lib/python3.10/site-packages/deepchecks/core/check_utils/feature_label_correlation_utils.py:222: PerformanceWarning:\n",
      "\n",
      "DataFrame is highly fragmented.  This is usually the result of calling `frame.insert` many times, which has poor performance.  Consider joining all columns at once using pd.concat(axis=1) instead. To get a de-fragmented frame, use `newframe = frame.copy()`\n",
      "\n",
      "/Users/i551965/Documents/dev/Uni/TikkaMasalAI/.venv/lib/python3.10/site-packages/deepchecks/core/check_utils/feature_label_correlation_utils.py:223: PerformanceWarning:\n",
      "\n",
      "DataFrame is highly fragmented.  This is usually the result of calling `frame.insert` many times, which has poor performance.  Consider joining all columns at once using pd.concat(axis=1) instead. To get a de-fragmented frame, use `newframe = frame.copy()`\n",
      "\n"
     ]
    }
   ],
   "source": [
    "from deepchecks.vision.suites import train_test_validation\n",
    "\n",
    "suite = train_test_validation()\n",
    "result = suite.run(train_ds, test_ds)"
   ]
  },
  {
   "cell_type": "code",
   "execution_count": 4,
   "id": "bb359cfe",
   "metadata": {},
   "outputs": [
    {
     "data": {
      "application/vnd.jupyter.widget-view+json": {
       "model_id": "73b1af3a0cae464eb9d66e731123736b",
       "version_major": 2,
       "version_minor": 0
      },
      "text/plain": [
       "Accordion(children=(VBox(children=(HTML(value='\\n<h1 id=\"summary_XAJI0Y6DPBHSAHXTHV3A3ZMF8\">Train Test Validat…"
      ]
     },
     "metadata": {},
     "output_type": "display_data"
    }
   ],
   "source": [
    "result"
   ]
  },
  {
   "cell_type": "code",
   "execution_count": 10,
   "id": "8a859a40",
   "metadata": {},
   "outputs": [
    {
     "data": {
      "text/plain": [
       "'../reports/figures/deepchecks20251009102658.html'"
      ]
     },
     "execution_count": 10,
     "metadata": {},
     "output_type": "execute_result"
    }
   ],
   "source": [
    "from datetime import datetime, timezone\n",
    "\n",
    "result.save_as_html(f'../reports/figures/deepchecks{datetime.now(timezone.utc).strftime(\"%Y%m%d%H%M%S\")}.html')"
   ]
  }
 ],
 "metadata": {
  "kernelspec": {
   "display_name": "TikkaMasalAI (3.10.18)",
   "language": "python",
   "name": "python3"
  },
  "language_info": {
   "codemirror_mode": {
    "name": "ipython",
    "version": 3
   },
   "file_extension": ".py",
   "mimetype": "text/x-python",
   "name": "python",
   "nbconvert_exporter": "python",
   "pygments_lexer": "ipython3",
   "version": "3.10.18"
  }
 },
 "nbformat": 4,
 "nbformat_minor": 5
}
