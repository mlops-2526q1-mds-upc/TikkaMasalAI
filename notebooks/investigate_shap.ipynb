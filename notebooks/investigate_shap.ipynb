{
 "cells": [
  {
   "cell_type": "code",
   "execution_count": 1,
   "id": "aa319e92",
   "metadata": {},
   "outputs": [],
   "source": [
    "\"\"\"\n",
    "Utility to inspect and visualize SHAP values saved in NPZ format.\n",
    "\"\"\"\n",
    "\n",
    "import numpy as np\n",
    "import matplotlib.pyplot as plt\n",
    "from pathlib import Path"
   ]
  },
  {
   "cell_type": "code",
   "execution_count": 2,
   "id": "2d6b4a11",
   "metadata": {},
   "outputs": [],
   "source": [
    "npz_path = \"../reports/shap/resnet18/shap_values_first_batch.npz\"\n",
    "data = np.load(npz_path)"
   ]
  },
  {
   "cell_type": "code",
   "execution_count": 3,
   "id": "e001b1f2",
   "metadata": {},
   "outputs": [
    {
     "name": "stdout",
     "output_type": "stream",
     "text": [
      "Array shapes:\n",
      "  values: (16, 224, 224, 3, 101)\n",
      "  base_values: (16, 101)\n",
      "\n"
     ]
    }
   ],
   "source": [
    "# Inspect the shapes\n",
    "print(\"Array shapes:\")\n",
    "for key in data.files:\n",
    "    print(f\"  {key}: {data[key].shape}\")\n",
    "print()"
   ]
  },
  {
   "cell_type": "code",
   "execution_count": 4,
   "id": "232685fd",
   "metadata": {},
   "outputs": [
    {
     "name": "stdout",
     "output_type": "stream",
     "text": [
      "Values dtype: float64\n",
      "Base values dtype: float64\n",
      "\n"
     ]
    }
   ],
   "source": [
    "# Load the arrays\n",
    "values = data['values']\n",
    "base_values = data['base_values']\n",
    "\n",
    "print(f\"Values dtype: {values.dtype}\")\n",
    "print(f\"Base values dtype: {base_values.dtype}\")\n",
    "print()"
   ]
  },
  {
   "cell_type": "code",
   "execution_count": 5,
   "id": "7607290b",
   "metadata": {},
   "outputs": [
    {
     "name": "stdout",
     "output_type": "stream",
     "text": [
      "============================================================\n",
      "INTERPRETATION\n",
      "============================================================\n",
      "Number of images analyzed: 16\n",
      "Image dimensions: 224x224 (HxW)\n",
      "Number of color channels: 3\n",
      "Number of output classes: 101\n",
      "\n",
      "The 'values' array shows the contribution of each pixel\n",
      "to each of the 101 food classes.\n",
      "\n",
      "Positive values = pixel pushes prediction toward that class\n",
      "Negative values = pixel pushes prediction away from that class\n",
      "\n"
     ]
    }
   ],
   "source": [
    "# Interpretation\n",
    "print(\"=\" * 60)\n",
    "print(\"INTERPRETATION\")\n",
    "print(\"=\" * 60)\n",
    "print(f\"Number of images analyzed: {values.shape[0]}\")\n",
    "print(f\"Image dimensions: {values.shape[1]}x{values.shape[2]} (HxW)\")\n",
    "print(f\"Number of color channels: {values.shape[3]}\")\n",
    "print(f\"Number of output classes: {values.shape[4]}\")\n",
    "print()\n",
    "print(\"The 'values' array shows the contribution of each pixel\")\n",
    "print(\"to each of the 101 food classes.\")\n",
    "print()\n",
    "print(\"Positive values = pixel pushes prediction toward that class\")\n",
    "print(\"Negative values = pixel pushes prediction away from that class\")\n",
    "print()"
   ]
  },
  {
   "cell_type": "code",
   "execution_count": 6,
   "id": "457af18a",
   "metadata": {},
   "outputs": [
    {
     "name": "stdout",
     "output_type": "stream",
     "text": [
      "Base values shape: (16, 101)\n",
      "Base values are the model's 'default' predictions\n",
      "Example base value for first image: [0.00081181 0.00127885 0.00172922 0.00089205 0.00166602]... (first 5 classes)\n",
      "\n",
      "============================================================\n",
      "EXAMPLE: First Image Analysis\n",
      "============================================================\n",
      "Image 0:\n"
     ]
    }
   ],
   "source": [
    "# Show base values\n",
    "print(f\"Base values shape: {base_values.shape}\")\n",
    "print(f\"Base values are the model's 'default' predictions\")\n",
    "print(f\"Example base value for first image: {base_values[0][:5]}... (first 5 classes)\")\n",
    "print()\n",
    "\n",
    "# Analyze first image\n",
    "print(\"=\" * 60)\n",
    "print(\"EXAMPLE: First Image Analysis\")\n",
    "print(\"=\" * 60)\n",
    "img_idx = 0\n",
    "print(f\"Image {img_idx}:\")"
   ]
  },
  {
   "cell_type": "code",
   "execution_count": 7,
   "id": "90a85f10",
   "metadata": {},
   "outputs": [
    {
     "name": "stdout",
     "output_type": "stream",
     "text": [
      "  Most influenced class: 6\n",
      "  Attribution value: 0.8398\n",
      "  Top 5 classes by attribution: [ 6 85 89 36 56]\n",
      "\n",
      "Attribution value range for class 6:\n",
      "  Min: -0.000002\n",
      "  Max: 0.000031\n",
      "  Mean: 0.000006\n",
      "\n"
     ]
    }
   ],
   "source": [
    "# Find which class had highest attribution\n",
    "# Sum attributions across spatial dimensions and channels for each class\n",
    "spatial_attribution = values[img_idx].sum(axis=(0, 1, 2))  # Sum over H, W, C\n",
    "top_class = np.argmax(spatial_attribution)\n",
    "print(f\"  Most influenced class: {top_class}\")\n",
    "print(f\"  Attribution value: {spatial_attribution[top_class]:.4f}\")\n",
    "print(f\"  Top 5 classes by attribution: {np.argsort(spatial_attribution)[-5:][::-1]}\")\n",
    "print()\n",
    "\n",
    "# Show value ranges\n",
    "print(f\"Attribution value range for class {top_class}:\")\n",
    "class_attrs = values[img_idx, :, :, :, top_class]\n",
    "print(f\"  Min: {class_attrs.min():.6f}\")\n",
    "print(f\"  Max: {class_attrs.max():.6f}\")\n",
    "print(f\"  Mean: {class_attrs.mean():.6f}\")\n",
    "print()"
   ]
  },
  {
   "cell_type": "code",
   "execution_count": 8,
   "id": "2b949b57",
   "metadata": {},
   "outputs": [
    {
     "name": "stdout",
     "output_type": "stream",
     "text": [
      "Creating visualization...\n",
      "Saved visualization to: ../reports/shap/resnet18/analysis_visualization.png\n",
      "\n",
      "Creating class importance heatmap...\n",
      "Saved heatmap to: ../reports/shap/resnet18/class_importance_heatmap.png\n",
      "\n",
      "Done! Check the generated PNG files for visualizations.\n"
     ]
    }
   ],
   "source": [
    "# Create visualization\n",
    "print(\"Creating visualization...\")\n",
    "fig, axes = plt.subplots(2, 2, figsize=(12, 10))\n",
    "\n",
    "# Show attributions for top predicted class (averaged across RGB channels)\n",
    "top_attr_map = values[img_idx, :, :, :, top_class].mean(axis=2)\n",
    "im1 = axes[0, 0].imshow(top_attr_map, cmap='RdBu_r', aspect='auto')\n",
    "axes[0, 0].set_title(f'Attributions for Class {top_class}\\n(Most Influential Class)')\n",
    "plt.colorbar(im1, ax=axes[0, 0])\n",
    "\n",
    "# Show absolute attributions (magnitude of influence)\n",
    "abs_attr_map = np.abs(top_attr_map)\n",
    "im2 = axes[0, 1].imshow(abs_attr_map, cmap='hot', aspect='auto')\n",
    "axes[0, 1].set_title('Absolute Attribution Magnitude')\n",
    "plt.colorbar(im2, ax=axes[0, 1])\n",
    "\n",
    "# Show total positive attributions across all classes\n",
    "total_positive = np.maximum(values[img_idx], 0).sum(axis=(2, 3))  # Sum over channels and classes\n",
    "im3 = axes[1, 0].imshow(total_positive, cmap='Reds', aspect='auto')\n",
    "axes[1, 0].set_title('Total Positive Attributions\\n(All Classes)')\n",
    "plt.colorbar(im3, ax=axes[1, 0])\n",
    "\n",
    "# Show total negative attributions across all classes\n",
    "total_negative = np.minimum(values[img_idx], 0).sum(axis=(2, 3))\n",
    "im4 = axes[1, 1].imshow(total_negative, cmap='Blues_r', aspect='auto')\n",
    "axes[1, 1].set_title('Total Negative Attributions\\n(All Classes)')\n",
    "plt.colorbar(im4, ax=axes[1, 1])\n",
    "\n",
    "plt.tight_layout()\n",
    "output_path = Path(npz_path).parent / \"analysis_visualization.png\"\n",
    "plt.savefig(output_path, dpi=150, bbox_inches='tight')\n",
    "print(f\"Saved visualization to: {output_path}\")\n",
    "plt.close()\n",
    "\n",
    "# Create a summary heatmap showing top classes\n",
    "print(\"\\nCreating class importance heatmap...\")\n",
    "fig, ax = plt.subplots(figsize=(10, 6))\n",
    "\n",
    "# Compute total attribution for each class across all images\n",
    "class_importance = np.zeros((values.shape[0], values.shape[4]))\n",
    "for i in range(values.shape[0]):\n",
    "    for c in range(values.shape[4]):\n",
    "        class_importance[i, c] = values[i, :, :, :, c].sum()\n",
    "\n",
    "# Show top 20 classes\n",
    "top_classes = np.argsort(class_importance.sum(axis=0))[-20:][::-1]\n",
    "heatmap_data = class_importance[:, top_classes].T\n",
    "\n",
    "im = ax.imshow(heatmap_data, cmap='RdBu_r', aspect='auto')\n",
    "ax.set_xlabel('Image Index')\n",
    "ax.set_ylabel('Class Index')\n",
    "ax.set_title('SHAP Attribution Heatmap\\n(Top 20 Most Influential Classes)')\n",
    "ax.set_yticks(range(len(top_classes)))\n",
    "ax.set_yticklabels(top_classes)\n",
    "plt.colorbar(im, ax=ax, label='Total Attribution')\n",
    "\n",
    "plt.tight_layout()\n",
    "heatmap_path = Path(npz_path).parent / \"class_importance_heatmap.png\"\n",
    "plt.savefig(heatmap_path, dpi=150, bbox_inches='tight')\n",
    "print(f\"Saved heatmap to: {heatmap_path}\")\n",
    "plt.close()\n",
    "\n",
    "print(\"\\nDone! Check the generated PNG files for visualizations.\")"
   ]
  },
  {
   "cell_type": "code",
   "execution_count": null,
   "id": "64c01a47",
   "metadata": {},
   "outputs": [],
   "source": []
  }
 ],
 "metadata": {
  "kernelspec": {
   "display_name": "activ_env",
   "language": "python",
   "name": "python3"
  },
  "language_info": {
   "codemirror_mode": {
    "name": "ipython",
    "version": 3
   },
   "file_extension": ".py",
   "mimetype": "text/x-python",
   "name": "python",
   "nbconvert_exporter": "python",
   "pygments_lexer": "ipython3",
   "version": "3.13.2"
  }
 },
 "nbformat": 4,
 "nbformat_minor": 5
}
